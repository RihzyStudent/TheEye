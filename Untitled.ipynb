{
 "cells": [
  {
   "cell_type": "code",
   "execution_count": 1,
   "id": "ca411b45-0e9b-465d-919e-66b624303585",
   "metadata": {},
   "outputs": [],
   "source": [
    "%matplotlib inline"
   ]
  },
  {
   "cell_type": "code",
   "execution_count": null,
   "id": "c1c63272-3397-4135-a41c-62b5c1865d70",
   "metadata": {},
   "outputs": [],
   "source": [
    "!pip install lightkurve scipy astropy LDTk transitleastsquares"
   ]
  },
  {
   "cell_type": "code",
   "execution_count": 23,
   "id": "4697c862-cafc-4b2b-a9a0-a2af0010590a",
   "metadata": {},
   "outputs": [],
   "source": [
    "import lightkurve as lk\n",
    "import numpy as np\n",
    "import astropy.units as u\n",
    "from astropy.constants import G\n",
    "from transitleastsquares import transitleastsquares\n",
    "from lightkurve import SFFCorrector\n",
    "from ldtk import LDPSetCreator, BoxcarFilter\n",
    "from lightkurve.correctors import DesignMatrix, RegressionCorrector\n",
    "import requests\n",
    "from scipy.interpolate import LSQUnivariateSpline, UnivariateSpline\n",
    "from astropy.constants import G, M_sun, R_sun, R_earth"
   ]
  },
  {
   "cell_type": "code",
   "execution_count": 219,
   "id": "03dfd010-102f-4e25-b0eb-5498ce374eca",
   "metadata": {},
   "outputs": [],
   "source": [
    "Planet = \"TIC 149603524\""
   ]
  },
  {
   "cell_type": "code",
   "execution_count": 220,
   "id": "550e2e2d-fcc1-4294-a52b-84cc332074bc",
   "metadata": {},
   "outputs": [],
   "source": [
    "search_result = lk.search_lightcurve(Planet)\n",
    "lc = search_result[0:10].download()\n",
    "lc = lc.remove_nans().remove_outliers().normalize()"
   ]
  },
  {
   "cell_type": "code",
   "execution_count": 221,
   "id": "ba73dd74-8e7f-4e88-b982-6f3eaeb5f15c",
   "metadata": {},
   "outputs": [],
   "source": [
    "X = np.vstack([lc.centroid_col.value, lc.centroid_row.value]).T\n",
    "dm = DesignMatrix(X, name=\"centroids\").append_constant()\n",
    "rc = RegressionCorrector(lc)\n",
    "lc_corr = rc.correct(dm, sigma=5)"
   ]
  },
  {
   "cell_type": "code",
   "execution_count": 222,
   "id": "3b802d68-b383-44c4-9758-fee603e3cd9e",
   "metadata": {},
   "outputs": [],
   "source": [
    "def correct_tls_depth_duration(results, time_days, f_target=None):\n",
    "    cadence_hr = float(np.median(np.diff(np.asarray(time_days))) * 24.0)\n",
    "\n",
    "    # TLS outputs\n",
    "    T_fit_hr   = float(results.duration)*24\n",
    "    depth_frac = float(results.depth)\n",
    "\n",
    "    # default: no dilution if not supplied\n",
    "    if f_target is None:\n",
    "        f_target = 1.0\n",
    "\n",
    "    # smearing correction (box convolved with box of width = cadence)\n",
    "    T_true_hr = T_fit_hr - cadence_hr\n",
    "    if T_true_hr <= 0:\n",
    "        raise ValueError(\"Under-resolved event: fitted duration ≤ cadence. Use higher cadence or avoid heavy binning.\")\n",
    "\n",
    "    k_smear  = 1.0 + (cadence_hr / T_true_hr)   # boosts depth\n",
    "    k_dilute = 1.0 / f_target                   # undilute depth\n",
    "    k_total  = k_smear * k_dilute\n",
    "\n",
    "    depth_ppm_corr   = (1-depth_frac) * 1e6 * k_total\n",
    "    duration_hr_corr = T_true_hr\n",
    "\n",
    "    return depth_ppm_corr, duration_hr_corr, k_total"
   ]
  },
  {
   "cell_type": "code",
   "execution_count": 223,
   "id": "ce6c17af-19b9-439f-80bf-e29a8b5ab57c",
   "metadata": {},
   "outputs": [],
   "source": [
    "def _contiguous_spans(time, gap_days=0.75):\n",
    "    t = np.asarray(time)\n",
    "    t = t[np.isfinite(t)]\n",
    "    if t.size == 0: return []\n",
    "    cuts = np.where(np.diff(t) > gap_days)[0] + 1\n",
    "    segs = np.split(t, cuts)\n",
    "    return [(s[0], s[-1], s[-1]-s[0]) for s in segs if s.size > 1]\n",
    "\n",
    "def choose_period_window(time,\n",
    "                         n_transits_min=2,\n",
    "                         min_samples_in_transit=4,\n",
    "                         duty_cycle_max=0.08,\n",
    "                         period_floor_days=0.3,\n",
    "                         period_cap_days=None,\n",
    "                         gap_days=0.75):\n",
    "    spans = _contiguous_spans(time, gap_days=gap_days)\n",
    "    if not spans:\n",
    "        raise ValueError(\"No valid time samples.\")\n",
    "    # use the largest contiguous segment\n",
    "    Tseg = max(spans, key=lambda x: x[2])[2]\n",
    "    # cadence (median spacing)\n",
    "    t = np.asarray(time)\n",
    "    dt = np.median(np.diff(np.sort(t[np.isfinite(t)])))\n",
    "    # P_max from seeing at least N transits in the segment\n",
    "    if n_transits_min < 2:\n",
    "        Pmax = Tseg\n",
    "    else:\n",
    "        Pmax = Tseg / (n_transits_min - 1)\n",
    "    if period_cap_days is not None:\n",
    "        Pmax = min(Pmax, period_cap_days)\n",
    "    # P_min from needing m samples in-transit and limiting duty cycle\n",
    "    Tmin = min_samples_in_transit * dt\n",
    "    Pmin = max(Tmin / duty_cycle_max, period_floor_days)\n",
    "    # safety ordering\n",
    "    if Pmin >= Pmax:\n",
    "        # fallback: relax constraints just enough to be valid\n",
    "        Pmin = 0.9 * Pmax\n",
    "    return float(Pmin), float(Pmax)\n"
   ]
  },
  {
   "cell_type": "code",
   "execution_count": 224,
   "id": "d616c73d-5843-4090-95a4-d9574e6ab6c9",
   "metadata": {},
   "outputs": [],
   "source": [
    "def qlp_style_detrend(lc, knot_spacing_days=2.0, k=3, n_iter=3, sigma=3.0, gap_days=0.75):\n",
    "    # 1) keep only good cadences\n",
    "    if hasattr(lc, \"quality\"):\n",
    "        lc = lc[lc.quality == 0]\n",
    "    t = lc.time.value\n",
    "    f = lc.flux.value / np.nanmedian(lc.flux.value)\n",
    "    e = lc.flux_err.value if lc.flux_err is not None else None\n",
    "\n",
    "    good = np.isfinite(t) & np.isfinite(f)\n",
    "    if e is not None:\n",
    "        good &= np.isfinite(e)\n",
    "    t, f = t[good], f[good]\n",
    "    if e is not None:\n",
    "        e = e[good]\n",
    "\n",
    "    # 2) split into segments (like per orbit/quarter); here by time gaps\n",
    "    cut = np.where(np.diff(t) > gap_days)[0] + 1\n",
    "    idx_segments = np.split(np.arange(len(t)), cut)\n",
    "\n",
    "    tout, fout, eout = [], [], []\n",
    "    for idx in idx_segments:\n",
    "        ts = t[idx]; fs = f[idx]; es = e[idx] if e is not None else None\n",
    "        if len(ts) < 10:\n",
    "            continue\n",
    "\n",
    "        # internal knots every ~knot_spacing_days (avoid endpoints)\n",
    "        ks = knot_spacing_days\n",
    "        if ts.max() - ts.min() > 2*ks:\n",
    "            knots = np.arange(ts.min() + ks, ts.max() - ks, ks)\n",
    "        else:\n",
    "            knots = None\n",
    "\n",
    "        mask = np.ones_like(fs, bool)\n",
    "        for _ in range(n_iter):\n",
    "            # fit spline to current inliers\n",
    "            if knots is not None and len(knots) > 0 and len(ts[mask]) > (k+1):\n",
    "                try:\n",
    "                    spl = LSQUnivariateSpline(ts[mask], fs[mask], knots, k=k)\n",
    "                except Exception:\n",
    "                    spl = UnivariateSpline(ts[mask], fs[mask], k=k, s=len(ts[mask])*0.5)\n",
    "            else:\n",
    "                spl = UnivariateSpline(ts[mask], fs[mask], k=k, s=len(ts[mask])*0.5)\n",
    "\n",
    "            trend = spl(ts)\n",
    "            resid = fs - trend\n",
    "            mad = 1.4826 * np.nanmedian(np.abs(resid - np.nanmedian(resid))) + 1e-12\n",
    "            mask = np.abs(resid) < sigma * mad  # 3σ clipping\n",
    "\n",
    "        trend = spl(ts)\n",
    "        fd = fs / trend\n",
    "        tout.append(ts)\n",
    "        fout.append(fd)\n",
    "        if es is not None:\n",
    "            eout.append(es / trend)\n",
    "\n",
    "    # 3) stitch segments and renormalize\n",
    "    t_final = np.concatenate(tout) if len(tout) else t\n",
    "    f_final = np.concatenate(fout) if len(fout) else f\n",
    "    f_final = f_final / np.nanmedian(f_final)\n",
    "    e_final = (np.concatenate(eout) if e is not None and len(eout) else None)\n",
    "\n",
    "    return lk.LightCurve(time=t_final, flux=f_final, flux_err=e_final)"
   ]
  },
  {
   "cell_type": "code",
   "execution_count": 246,
   "id": "99ba3007-1e74-4172-ae10-3826de11ab35",
   "metadata": {},
   "outputs": [],
   "source": [
    "Pmin, Pmax = choose_period_window(lc_corr.time.value, n_transits_min=2, min_samples_in_transit=5, duty_cycle_max=0.08)"
   ]
  },
  {
   "cell_type": "code",
   "execution_count": 247,
   "id": "85c29aaa-a246-4498-968f-f9cab3bbe8f0",
   "metadata": {},
   "outputs": [],
   "source": [
    "def catalog_info(s):\n",
    "    URL = \"https://exoplanetarchive.ipac.caltech.edu/TAP/sync?query=SELECT+*+FROM+\"\n",
    "    if s.startswith(\"KIC\"):\n",
    "        KIC = int(s.split()[1])\n",
    "        if type(KIC) is not int:\n",
    "            raise TypeError('KIC ID must be of type \"int\"')\n",
    "        URL += f\"cumulative+WHERE+tid={KIC}&format=json\"\n",
    "    if s.startswith(\"EPIC\"):\n",
    "        EPIC = int(s.split()[1])\n",
    "        if type(EPIC) is not int:\n",
    "            raise TypeError('EPIC ID must be of type \"int\"')\n",
    "        if (EPIC < 201000001) or (EPIC > 251813738):\n",
    "            raise TypeError(\"EPIC ID must be in range 201000001 to 251813738\")\n",
    "        URL += f\"k2pandc+WHERE+epic_hostname={EPIC}&format=json\"\n",
    "    if s.startswith(\"TIC\"):\n",
    "        TIC = int(s.split()[1])\n",
    "        if type(TIC) is not int:\n",
    "            raise TypeError('TIC ID must be of type \"int\"')\n",
    "        URL += f\"toi+WHERE+tid={TIC}&format=json\"\n",
    "    response = requests.get(URL)\n",
    "    print(URL)\n",
    "    data = {}\n",
    "    if response.status_code == 200:\n",
    "        data =  response.json()[0]\n",
    "        print(\"Data fetched successfully!\")\n",
    "        solar_mass = ((10**data[\"st_logg\"])*(data[\"st_rad\"]*6.96e8)**2)/(100*G*(1.989e30))\n",
    "        try:\n",
    "            solar_err = np.sqrt((solar_mass*np.log(10)*max(data[\"st_loggerr1\"],data[\"st_loggerr2\"]))**2+((2*solar_mass/data[\"st_rad\"])*max(data[\"st_raderr1\"],data[\"st_raderr2\"]))**2)\n",
    "        except:\n",
    "            solar_err = 0.1133 * u.M_sun\n",
    "        data[\"st_mass\"] = solar_mass.value\n",
    "        data[\"st_masserr\"] = solar_err.value\n",
    "        data[\"a\"] = (((G * solar_mass * M_sun * ((Pmax-Pmin) * u.day)**2) / (4 * np.pi**2))**(1/3)).value\n",
    "    if data == {}:\n",
    "        print(\"Error Fetching Data, maybe recheck your ID?\")\n",
    "    return data"
   ]
  },
  {
   "cell_type": "code",
   "execution_count": 248,
   "id": "8bdd0c50-7162-4285-b084-0ac04130d02d",
   "metadata": {},
   "outputs": [
    {
     "name": "stdout",
     "output_type": "stream",
     "text": [
      "https://exoplanetarchive.ipac.caltech.edu/TAP/sync?query=SELECT+*+FROM+toi+WHERE+tid=149603524&format=json\n",
      "Data fetched successfully!\n"
     ]
    }
   ],
   "source": [
    "catalog = catalog_info(Planet)"
   ]
  },
  {
   "cell_type": "code",
   "execution_count": 249,
   "id": "07536647-bad0-49b6-97a9-4fa4efe8d443",
   "metadata": {},
   "outputs": [
    {
     "data": {
      "text/plain": [
       "{'tid': 149603524,\n",
       " 'toi': '102.01',\n",
       " 'toidisplay': 'TOI-102.01',\n",
       " 'toipfx': '102',\n",
       " 'ctoi_alias': '149603524.01',\n",
       " 'pl_pnum': 1,\n",
       " 'tfopwg_disp': 'KP',\n",
       " 'st_tmag': 9.7109,\n",
       " 'st_tmagerr1': 0.006,\n",
       " 'st_tmagerr2': -0.006,\n",
       " 'st_tmagsymerr': 1,\n",
       " 'st_tmaglim': 0,\n",
       " 'rastr': '05h48m33.56s',\n",
       " 'ra': 87.139821,\n",
       " 'raerr1': None,\n",
       " 'raerr2': None,\n",
       " 'rasymerr': None,\n",
       " 'decstr': '-63d59m17.98s',\n",
       " 'dec': -63.988329,\n",
       " 'decerr1': None,\n",
       " 'decerr2': None,\n",
       " 'decsymerr': None,\n",
       " 'st_pmra': -15.641,\n",
       " 'st_pmraerr1': 0.037,\n",
       " 'st_pmraerr2': -0.037,\n",
       " 'st_pmrasymerr': 1,\n",
       " 'st_pmralim': 0,\n",
       " 'st_pmdec': 26.046,\n",
       " 'st_pmdecerr1': 0.037,\n",
       " 'st_pmdecerr2': -0.037,\n",
       " 'st_pmdecsymerr': 1,\n",
       " 'st_pmdeclim': 0,\n",
       " 'pl_tranmid': 2460187.916571,\n",
       " 'pl_tranmiderr1': 0.000126,\n",
       " 'pl_tranmiderr2': -0.000126,\n",
       " 'pl_tranmidsymerr': 1,\n",
       " 'pl_tranmidlim': 0,\n",
       " 'pl_orbper': 4.4119378,\n",
       " 'pl_orbpererr1': 8e-07,\n",
       " 'pl_orbpererr2': -8e-07,\n",
       " 'pl_orbpersymerr': 1,\n",
       " 'pl_orbperlim': 0,\n",
       " 'pl_trandurh': 3.65,\n",
       " 'pl_trandurherr1': 0.011,\n",
       " 'pl_trandurherr2': -0.011,\n",
       " 'pl_trandurhsymerr': 1,\n",
       " 'pl_trandurhlim': 0,\n",
       " 'pl_trandep': 15062.0,\n",
       " 'pl_trandeperr1': 69.1814,\n",
       " 'pl_trandeperr2': -69.1814,\n",
       " 'pl_trandepsymerr': 1,\n",
       " 'pl_trandeplim': 0,\n",
       " 'pl_rade': 15.4706,\n",
       " 'pl_radeerr1': 0.691963,\n",
       " 'pl_radeerr2': -0.691963,\n",
       " 'pl_radesymerr': 1,\n",
       " 'pl_radelim': 0,\n",
       " 'pl_insol': 653.252,\n",
       " 'pl_insolerr1': None,\n",
       " 'pl_insolerr2': None,\n",
       " 'pl_insolsymerr': None,\n",
       " 'pl_insollim': None,\n",
       " 'pl_eqt': 1408.0,\n",
       " 'pl_eqterr1': None,\n",
       " 'pl_eqterr2': None,\n",
       " 'pl_eqtsymerr': None,\n",
       " 'pl_eqtlim': None,\n",
       " 'st_dist': 175.631,\n",
       " 'st_disterr1': 0.588,\n",
       " 'st_disterr2': -0.588,\n",
       " 'st_distsymerr': 1,\n",
       " 'st_distlim': 0,\n",
       " 'st_teff': 6280.0,\n",
       " 'st_tefferr1': None,\n",
       " 'st_tefferr2': None,\n",
       " 'st_teffsymerr': 1,\n",
       " 'st_tefflim': 0,\n",
       " 'st_logg': 4.32092,\n",
       " 'st_loggerr1': None,\n",
       " 'st_loggerr2': None,\n",
       " 'st_loggsymerr': 1,\n",
       " 'st_logglim': 0,\n",
       " 'st_rad': 1.21,\n",
       " 'st_raderr1': 0.05,\n",
       " 'st_raderr2': -0.05,\n",
       " 'st_radsymerr': 1,\n",
       " 'st_radlim': 0,\n",
       " 'sectors': None,\n",
       " 'toi_created': '2019-05-07 17:42:37',\n",
       " 'rowupdate': '2024-10-03 10:08:02',\n",
       " 'release_date': '2025-09-28 22:48:44',\n",
       " 'st_mass': np.float64(1.1185842835668103),\n",
       " 'st_masserr': np.float64(0.1133),\n",
       " 'a': np.float64(7899707.319575423)}"
      ]
     },
     "execution_count": 249,
     "metadata": {},
     "output_type": "execute_result"
    }
   ],
   "source": [
    "catalog"
   ]
  },
  {
   "cell_type": "code",
   "execution_count": 261,
   "id": "a6a61817-7592-4acb-9688-5023f5e6ee61",
   "metadata": {},
   "outputs": [
    {
     "name": "stdout",
     "output_type": "stream",
     "text": [
      "Transit Least Squares TLS 1.32 (5 Apr 2024)\n",
      "Creating model cache for 37 durations\n",
      "Searching 14313 data points, 2843 periods from 0.757 to 11.745 days\n",
      "Using all 22 CPU threads\n"
     ]
    },
    {
     "name": "stderr",
     "output_type": "stream",
     "text": [
      "100%|███████████████████████████████████████████████████████████████████████████████████████████████████████████████████████████████████████████████████████████████████████████████████████| 2843/2843 periods | 00:07<00:00\n"
     ]
    },
    {
     "name": "stdout",
     "output_type": "stream",
     "text": [
      "Searching for best T0 for period 6.40491 days\n"
     ]
    },
    {
     "name": "stderr",
     "output_type": "stream",
     "text": [
      "100%|████████████████████████████████████████████████████████████████████████████████████████████████████████████████████████████████████████████████████████████████████████████████| 14313/14313 [00:02<00:00, 5059.80it/s]\n"
     ]
    }
   ],
   "source": [
    "lc_new = qlp_style_detrend(lc)\n",
    "dur_hrs = np.linspace(0.5, 10.0, 30)\n",
    "tls = transitleastsquares(lc_new.time.value, lc_new.flux, lc_new.flux_err)\n",
    "r = tls.power(\n",
    "    R_star = catalog[\"st_rad\"], \n",
    "    R_star_min = catalog[\"st_rad\"] + catalog[\"st_raderr2\"], \n",
    "    R_star_max = catalog[\"st_rad\"] + catalog[\"st_raderr1\"],\n",
    "    M_star = catalog[\"st_mass\"], \n",
    "    M_star_min = catalog[\"st_mass\"] - catalog[\"st_masserr\"], \n",
    "    M_star_max = catalog[\"st_mass\"] + catalog[\"st_masserr\"],\n",
    "    a = catalog[\"a\"],\n",
    "    rp = catalog[\"pl_rade\"],\n",
    "    period_max = Pmax,\n",
    "    period_min = Pmin,\n",
    "    limb_dark = \"quadric\",\n",
    "    transit_template = \"box\",\n",
    "    oversampling_factor=5, \n",
    "    n_transits_min=2,\n",
    "    T0_fit_margin = 0)"
   ]
  },
  {
   "cell_type": "code",
   "execution_count": 257,
   "id": "4225fe21-e7a4-4aef-bb8f-db3bb5401cdf",
   "metadata": {},
   "outputs": [
    {
     "name": "stdout",
     "output_type": "stream",
     "text": [
      "CROWDSAP: 0.98500991\n",
      "0.91853648\n"
     ]
    }
   ],
   "source": [
    "tpf = lk.search_targetpixelfile(Planet).download()\n",
    "\n",
    "# Access header of the primary extension or the flux extension\n",
    "hdr = tpf.hdu[1].header\n",
    "\n",
    "crowdsap = hdr.get(\"CROWDSAP\", None)\n",
    "flfrcsap = hdr.get(\"FLFRCSAP\", None)\n",
    "\n",
    "print(\"CROWDSAP:\", crowdsap)\n",
    "print(flfrcsap)"
   ]
  },
  {
   "cell_type": "code",
   "execution_count": 260,
   "id": "3f812c24-bbbc-4910-a8cf-e6fb558b8c97",
   "metadata": {},
   "outputs": [
    {
     "name": "stdout",
     "output_type": "stream",
     "text": [
      "6.40491305561371 2458417.05582133 4.344002966866847 658.7315044958438 6.138055468384572\n"
     ]
    }
   ],
   "source": [
    "P = float(r.period)\n",
    "T0 = float(r.T0+2457000.0)\n",
    "Depth, Dur_h, k = correct_tls_depth_duration(r, lc_new.time.value,crowdsap)\n",
    "SDE = float(r.SDE)\n",
    "\n",
    "print(P, T0, Dur_h, Depth, SDE)"
   ]
  },
  {
   "cell_type": "code",
   "execution_count": 218,
   "id": "fe37fe8d-6088-49c1-a4fb-0cfc62c9d99c",
   "metadata": {},
   "outputs": [
    {
     "data": {
      "text/plain": [
       "np.float64(5.626013646153321)"
      ]
     },
     "execution_count": 218,
     "metadata": {},
     "output_type": "execute_result"
    }
   ],
   "source": [
    "r.duration*24"
   ]
  },
  {
   "cell_type": "code",
   "execution_count": 259,
   "id": "837f0ad6-9f1d-427c-9a36-3290d17fef47",
   "metadata": {},
   "outputs": [
    {
     "name": "stdout",
     "output_type": "stream",
     "text": [
      "706.4031468381265 104.25607120480433 1.0970423674204564\n",
      "643.9160125594201\n"
     ]
    }
   ],
   "source": [
    "depth_ppm_corr, duration_hr_corr, k = correct_tls_depth_duration(r, lc_new.time.value,flfrcsap)\n",
    "print(depth_ppm_corr, duration_hr_corr*24, k)\n",
    "print((1.0-r.depth)*1e6)"
   ]
  },
  {
   "cell_type": "code",
   "execution_count": null,
   "id": "3c99f6f1-d575-4e5f-8c39-8ea5c22fd97c",
   "metadata": {},
   "outputs": [],
   "source": [
    "lc_new = qlp_style_detrend(lc_corr)\n",
    "dur_hrs = np.linspace(1.0, 3.5, 40)\n",
    "tls = transitleastsquares(lc_new.time.value, lc_new.flux.value, lc_new.flux_err.value)\n",
    "r = tls.power(\n",
    "    duration_grid = dur_hrs, \n",
    "    period_min = Pmin, \n",
    "    period_max = Pmax,\n",
    "    R_star =  2.169,\n",
    "    R_star_max = 2.169+0.0800940,\n",
    "    R_star_min = 2.169-0.0650518,\n",
    "    M_star = 2.64,\n",
    "    M_star_min = 2.64-0.318,\n",
    "    M_star_max = 2.64+0.379,\n",
    "    u = ab,\n",
    "    oversampling_factor=7, \n",
    "    n_transits_min=3)"
   ]
  },
  {
   "cell_type": "code",
   "execution_count": null,
   "id": "ce44a69f-fc7a-40d4-9bf9-6df9d7140254",
   "metadata": {},
   "outputs": [],
   "source": [
    "r.items()"
   ]
  },
  {
   "cell_type": "code",
   "execution_count": 157,
   "id": "250a15c2-f366-490c-be11-96ba33dd06e4",
   "metadata": {},
   "outputs": [],
   "source": [
    "P_days     = float(r.period)\n",
    "T0_BJD    = float(r.T0 + 2457000)                 # add 2457000 to compare with BJD\n",
    "Dur_hours  = float(r.duration * 24.0)\n",
    "depth_ppm  = float(1e6 * (1.0 - r.depth_mean[0]))  # robust drop\n",
    "rp_rs      = float(r.rp_rs)"
   ]
  },
  {
   "cell_type": "code",
   "execution_count": 158,
   "id": "e65d6355-0ee6-4668-9acb-e81c87808fd9",
   "metadata": {},
   "outputs": [
    {
     "data": {
      "text/plain": [
       "664.0385863425636"
      ]
     },
     "execution_count": 158,
     "metadata": {},
     "output_type": "execute_result"
    }
   ],
   "source": [
    "depth_ppm*2"
   ]
  },
  {
   "cell_type": "code",
   "execution_count": 151,
   "id": "88176ebd-863e-479c-b011-87217a77c6e1",
   "metadata": {},
   "outputs": [
    {
     "name": "stdout",
     "output_type": "stream",
     "text": [
      "345.3644171121796\n"
     ]
    }
   ],
   "source": [
    "# lc is your PDCSAP TessLightCurve\n",
    "crowd = None\n",
    "\n",
    "crowd = float(lc.meta['CROWDSAP'])\n",
    "\n",
    "print(depth_ppm/crowd)"
   ]
  },
  {
   "cell_type": "code",
   "execution_count": 137,
   "id": "b6eea615-7312-40e1-8bfb-c8c7df9e2f80",
   "metadata": {},
   "outputs": [
    {
     "name": "stdout",
     "output_type": "stream",
     "text": [
      "Raw measured depth (ppm): 373.9424576277801\n"
     ]
    }
   ],
   "source": [
    "from transitleastsquares import transit_mask\n",
    "\n",
    "t  = lc_new.time.value\n",
    "P  = r.period\n",
    "y  = lc_new.flux/np.nanmedian(lc_new.time.value)\n",
    "T0 = r.T0\n",
    "Dur = r.duration\n",
    "\n",
    "mask = transit_mask(t, P, Dur, T0)\n",
    "oot  = np.nanmedian(y[~mask])\n",
    "it   = np.nanmedian(y[mask])\n",
    "depth_ppm = (oot - it)/oot * 1e6\n",
    "print(\"Raw measured depth (ppm):\", depth_ppm)\n"
   ]
  },
  {
   "cell_type": "code",
   "execution_count": 168,
   "id": "f8f3448c-6256-40aa-b08e-ea7ff5ce7b44",
   "metadata": {},
   "outputs": [
    {
     "ename": "TypeError",
     "evalue": "__init__() got unexpected keyword argument 'phase'",
     "output_type": "error",
     "traceback": [
      "\u001b[31m---------------------------------------------------------------------------\u001b[39m",
      "\u001b[31mTypeError\u001b[39m                                 Traceback (most recent call last)",
      "\u001b[36mCell\u001b[39m\u001b[36m \u001b[39m\u001b[32mIn[168]\u001b[39m\u001b[32m, line 1\u001b[39m\n\u001b[32m----> \u001b[39m\u001b[32m1\u001b[39m newlc = \u001b[43mlk\u001b[49m\u001b[43m.\u001b[49m\u001b[43mLightCurve\u001b[49m\u001b[43m(\u001b[49m\u001b[43mphase\u001b[49m\u001b[43m \u001b[49m\u001b[43m=\u001b[49m\u001b[43m \u001b[49m\u001b[43mr\u001b[49m\u001b[43m.\u001b[49m\u001b[43mmodel_folded_phase\u001b[49m\u001b[43m,\u001b[49m\u001b[43m \u001b[49m\u001b[43mflux\u001b[49m\u001b[43m \u001b[49m\u001b[43m=\u001b[49m\u001b[43m \u001b[49m\u001b[43mr\u001b[49m\u001b[43m.\u001b[49m\u001b[43mmodel_folded_model\u001b[49m\u001b[43m)\u001b[49m\n",
      "\u001b[36mFile \u001b[39m\u001b[32m~/kms/.venv/lib64/python3.12/site-packages/lightkurve/lightcurve.py:341\u001b[39m, in \u001b[36mLightCurve.__init__\u001b[39m\u001b[34m(self, data, time, flux, flux_err, *args, **kwargs)\u001b[39m\n\u001b[32m    339\u001b[39m tmp = \u001b[38;5;28mself\u001b[39m._required_columns\n\u001b[32m    340\u001b[39m \u001b[38;5;28mself\u001b[39m._required_columns = []\n\u001b[32m--> \u001b[39m\u001b[32m341\u001b[39m \u001b[38;5;28;43msuper\u001b[39;49m\u001b[43m(\u001b[49m\u001b[43m)\u001b[49m\u001b[43m.\u001b[49m\u001b[34;43m__init__\u001b[39;49m\u001b[43m(\u001b[49m\u001b[43mdata\u001b[49m\u001b[43m=\u001b[49m\u001b[43mdata\u001b[49m\u001b[43m,\u001b[49m\u001b[43m \u001b[49m\u001b[43mtime\u001b[49m\u001b[43m=\u001b[49m\u001b[43mtime\u001b[49m\u001b[43m,\u001b[49m\u001b[43m \u001b[49m\u001b[43m*\u001b[49m\u001b[43m*\u001b[49m\u001b[43mkwargs\u001b[49m\u001b[43m)\u001b[49m\n\u001b[32m    342\u001b[39m \u001b[38;5;28mself\u001b[39m._required_columns = tmp\n\u001b[32m    344\u001b[39m \u001b[38;5;66;03m# For some operations, an empty time series needs to be created, then\u001b[39;00m\n\u001b[32m    345\u001b[39m \u001b[38;5;66;03m# columns added one by one. We should check that when columns are added\u001b[39;00m\n\u001b[32m    346\u001b[39m \u001b[38;5;66;03m# manually, time is added first and is of the right type.\u001b[39;00m\n",
      "\u001b[36mFile \u001b[39m\u001b[32m~/kms/.venv/lib64/python3.12/site-packages/astropy/timeseries/sampled.py:70\u001b[39m, in \u001b[36mTimeSeries.__init__\u001b[39m\u001b[34m(self, data, time, time_start, time_delta, n_samples, **kwargs)\u001b[39m\n\u001b[32m     60\u001b[39m \u001b[38;5;28;01mdef\u001b[39;00m\u001b[38;5;250m \u001b[39m\u001b[34m__init__\u001b[39m(\n\u001b[32m     61\u001b[39m     \u001b[38;5;28mself\u001b[39m,\n\u001b[32m     62\u001b[39m     data=\u001b[38;5;28;01mNone\u001b[39;00m,\n\u001b[32m   (...)\u001b[39m\u001b[32m     68\u001b[39m     **kwargs,\n\u001b[32m     69\u001b[39m ):\n\u001b[32m---> \u001b[39m\u001b[32m70\u001b[39m     \u001b[38;5;28;43msuper\u001b[39;49m\u001b[43m(\u001b[49m\u001b[43m)\u001b[49m\u001b[43m.\u001b[49m\u001b[34;43m__init__\u001b[39;49m\u001b[43m(\u001b[49m\u001b[43mdata\u001b[49m\u001b[43m=\u001b[49m\u001b[43mdata\u001b[49m\u001b[43m,\u001b[49m\u001b[43m \u001b[49m\u001b[43m*\u001b[49m\u001b[43m*\u001b[49m\u001b[43mkwargs\u001b[49m\u001b[43m)\u001b[49m\n\u001b[32m     72\u001b[39m     \u001b[38;5;66;03m# For some operations, an empty time series needs to be created, then\u001b[39;00m\n\u001b[32m     73\u001b[39m     \u001b[38;5;66;03m# columns added one by one. We should check that when columns are added\u001b[39;00m\n\u001b[32m     74\u001b[39m     \u001b[38;5;66;03m# manually, time is added first and is of the right type.\u001b[39;00m\n\u001b[32m     75\u001b[39m     \u001b[38;5;28;01mif\u001b[39;00m data \u001b[38;5;129;01mis\u001b[39;00m \u001b[38;5;28;01mNone\u001b[39;00m \u001b[38;5;129;01mand\u001b[39;00m time \u001b[38;5;129;01mis\u001b[39;00m \u001b[38;5;28;01mNone\u001b[39;00m \u001b[38;5;129;01mand\u001b[39;00m time_start \u001b[38;5;129;01mis\u001b[39;00m \u001b[38;5;28;01mNone\u001b[39;00m \u001b[38;5;129;01mand\u001b[39;00m time_delta \u001b[38;5;129;01mis\u001b[39;00m \u001b[38;5;28;01mNone\u001b[39;00m:\n",
      "\u001b[36mFile \u001b[39m\u001b[32m~/kms/.venv/lib64/python3.12/site-packages/astropy/table/table.py:785\u001b[39m, in \u001b[36mTable.__init__\u001b[39m\u001b[34m(self, data, masked, names, dtype, meta, copy, rows, copy_indices, units, descriptions, **kwargs)\u001b[39m\n\u001b[32m    783\u001b[39m     copy = COPY_IF_NEEDED\n\u001b[32m    784\u001b[39m \u001b[38;5;28;01melif\u001b[39;00m kwargs:\n\u001b[32m--> \u001b[39m\u001b[32m785\u001b[39m     \u001b[38;5;28;01mraise\u001b[39;00m \u001b[38;5;167;01mTypeError\u001b[39;00m(\n\u001b[32m    786\u001b[39m         \u001b[33mf\u001b[39m\u001b[33m\"\u001b[39m\u001b[33m__init__() got unexpected keyword argument \u001b[39m\u001b[38;5;132;01m{\u001b[39;00m\u001b[38;5;28mnext\u001b[39m(\u001b[38;5;28miter\u001b[39m(kwargs.keys()))\u001b[38;5;132;01m!r}\u001b[39;00m\u001b[33m\"\u001b[39m\n\u001b[32m    787\u001b[39m     )\n\u001b[32m    789\u001b[39m \u001b[38;5;66;03m# Treat any empty numpy array as None, except for structured arrays since they\u001b[39;00m\n\u001b[32m    790\u001b[39m \u001b[38;5;66;03m# provide column names and dtypes.\u001b[39;00m\n\u001b[32m    791\u001b[39m \u001b[38;5;66;03m#\u001b[39;00m\n\u001b[32m   (...)\u001b[39m\u001b[32m    794\u001b[39m \u001b[38;5;66;03m# because it could mean no columns, or it could mean no rows for list of dict.\u001b[39;00m\n\u001b[32m    795\u001b[39m \u001b[38;5;66;03m# For compatibility with the latter, interpret data=[] as data=None.\u001b[39;00m\n\u001b[32m    796\u001b[39m \u001b[38;5;28;01mif\u001b[39;00m (\n\u001b[32m    797\u001b[39m     \u001b[38;5;28misinstance\u001b[39m(data, np.ndarray) \u001b[38;5;129;01mand\u001b[39;00m data.size == \u001b[32m0\u001b[39m \u001b[38;5;129;01mand\u001b[39;00m \u001b[38;5;129;01mnot\u001b[39;00m data.dtype.names\n\u001b[32m    798\u001b[39m ) \u001b[38;5;129;01mor\u001b[39;00m (\u001b[38;5;28misinstance\u001b[39m(data, (\u001b[38;5;28mlist\u001b[39m, \u001b[38;5;28mtuple\u001b[39m)) \u001b[38;5;129;01mand\u001b[39;00m \u001b[38;5;28mlen\u001b[39m(data) == \u001b[32m0\u001b[39m):\n",
      "\u001b[31mTypeError\u001b[39m: __init__() got unexpected keyword argument 'phase'"
     ]
    }
   ],
   "source": [
    "newlc = lk.LightCurve(phase = r.model_folded_phase, flux = r.model_folded_model)"
   ]
  },
  {
   "cell_type": "code",
   "execution_count": 166,
   "id": "9334c380-c41a-4d35-87e5-bdcb400a28e2",
   "metadata": {},
   "outputs": [
    {
     "data": {
      "text/plain": [
       "<Axes: xlabel='Time [JD]', ylabel='Flux'>"
      ]
     },
     "execution_count": 166,
     "metadata": {},
     "output_type": "execute_result"
    },
    {
     "data": {
      "image/png": "[encoded data removed]",
      "text/plain": [
       "<Figure size 848.5x400 with 1 Axes>"
      ]
     },
     "metadata": {},
     "output_type": "display_data"
    }
   ],
   "source": [
    "newlc.plot()"
   ]
  },
  {
   "cell_type": "code",
   "execution_count": null,
   "id": "a48d71a4-12de-4473-807e-36e26aa1db84",
   "metadata": {},
   "outputs": [],
   "source": []
  },
  {
   "cell_type": "code",
   "execution_count": 102,
   "id": "cbd4d7e5-39da-48cd-9bc7-3e70c2061353",
   "metadata": {},
   "outputs": [
    {
     "name": "stderr",
     "output_type": "stream",
     "text": [
      "WARNING: The fit may be unsuccessful; check fit_info['message'] for more information. [astropy.modeling.fitting]\n",
      "WARNING:astroquery:The fit may be unsuccessful; check fit_info['message'] for more information.\n",
      "/home/rizhy/kms/.venv/lib64/python3.12/site-packages/transitleastsquares/validate.py:57: UserWarning: Ignoring unknown parameter: duration_grid\n",
      "  warnings.warn(text)\n"
     ]
    },
    {
     "name": "stdout",
     "output_type": "stream",
     "text": [
      "Transit Least Squares TLS 1.32 (5 Apr 2024)\n",
      "Creating model cache for 39 durations\n",
      "Searching 1463 data points, 5271 periods from 0.601 to 16.736 days\n",
      "Using all 22 CPU threads\n"
     ]
    },
    {
     "name": "stderr",
     "output_type": "stream",
     "text": [
      "100%|███████████████████████████████████████████████████████████████████████████████████████████████████████████████████████████████████████████████████████████████████████████████████████| 5271/5271 periods | 00:03<00:00\n",
      "/home/rizhy/kms/.venv/lib64/python3.12/site-packages/transitleastsquares/stats.py:458: RuntimeWarning: divide by zero encountered in scalar divide\n",
      "  snr_pink_per_transit[i] = (1 - mean_flux) / pinknoise\n"
     ]
    },
    {
     "name": "stdout",
     "output_type": "stream",
     "text": [
      "Searching for best T0 for period 1.21363 days\n"
     ]
    },
    {
     "data": {
      "image/png": "[encoded data removed]",
      "text/plain": [
       "<Figure size 848.5x400 with 1 Axes>"
      ]
     },
     "metadata": {},
     "output_type": "display_data"
    }
   ],
   "source": [
    "lc = (lc\n",
    "      .remove_nans()\n",
    "      .remove_outliers(sigma=5)\n",
    "      .normalize(unit='ppm'))\n",
    "lc = lc[lc.quality==0]\n",
    "\n",
    "lc = SFFCorrector(lc).correct()\n",
    "lc = lc.flatten(window_length=1000, polyorder=2)\n",
    "\n",
    "lc.plot()\n",
    "\n",
    "time = lc.time.value                    # days (BJD—BKJD/BTJD/whatever your file uses)\n",
    "flux = (lc.flux/np.nanmedian(lc.flux)).value\n",
    "# If you have uncertainties:\n",
    "flux_err = lc.flux_err\n",
    "if flux_err is not None:\n",
    "    flux_err = flux_err.value / np.nanmedian(lc.flux.value)\n",
    "\n",
    "# Period search limits: tune to your science case\n",
    "p_min, p_max = 0.5, 50.0  # days\n",
    "# Duration grid: Kepler short transits ~0.5–10 hr\n",
    "dur_hrs = np.linspace(0.5, 10.0, 30)\n",
    "\n",
    "tls = transitleastsquares(time, flux, flux_err)\n",
    "results = tls.power(period_min=p_min,\n",
    "                    period_max=p_max,\n",
    "                    duration_grid=dur_hrs,\n",
    "                    oversampling_factor=5,\n",
    "                    n_transits_min=2)\n",
    "\n",
    "period      = results.period             # days\n",
    "t0          = results.T0                 # epoch (same time base as input)\n",
    "duration_d  = results.duration           # days\n",
    "duration_h  = results.duration * 24.0    # hours\n",
    "depth_rel   = results.depth              # relative (e.g., 0.0008 = 800 ppm)\n",
    "snr         = results.SDE                # detection significance proxy\n",
    "\n",
    "# Optional: mask the found transits and re-run to look for additional planets\n",
    "# mask = results.transit_mask\n",
    "# time2, flux2 = time[~mask], flux[~mask]"
   ]
  },
  {
   "cell_type": "code",
   "execution_count": 16,
   "id": "fd82bc1b-ee4c-493d-81b6-e59a325c7597",
   "metadata": {},
   "outputs": [
    {
     "ename": "AttributeError",
     "evalue": "object has no attribute pdcsap_flux",
     "output_type": "error",
     "traceback": [
      "\u001b[31m---------------------------------------------------------------------------\u001b[39m",
      "\u001b[31mAttributeError\u001b[39m                            Traceback (most recent call last)",
      "\u001b[36mCell\u001b[39m\u001b[36m \u001b[39m\u001b[32mIn[16]\u001b[39m\u001b[32m, line 2\u001b[39m\n\u001b[32m      1\u001b[39m t = lc.time.value\n\u001b[32m----> \u001b[39m\u001b[32m2\u001b[39m f = \u001b[43mlc\u001b[49m\u001b[43m.\u001b[49m\u001b[43mpdcsap_flux\u001b[49m.value / np.nanmedian(lc.pdcsap_flux.value)\n\u001b[32m      3\u001b[39m e = \u001b[38;5;28;01mNone\u001b[39;00m \u001b[38;5;28;01mif\u001b[39;00m lc.pdcsap_flux_err \u001b[38;5;129;01mis\u001b[39;00m \u001b[38;5;28;01mNone\u001b[39;00m \u001b[38;5;28;01melse\u001b[39;00m (lc.pdcsap_flux_err.value / np.nanmedian(lc.pdcsap_flux.value))\n\u001b[32m      5\u001b[39m m = np.isfinite(t) & np.isfinite(f) & (e>=\u001b[32m0\u001b[39m \u001b[38;5;28;01mif\u001b[39;00m e \u001b[38;5;129;01mis\u001b[39;00m \u001b[38;5;129;01mnot\u001b[39;00m \u001b[38;5;28;01mNone\u001b[39;00m \u001b[38;5;28;01melse\u001b[39;00m \u001b[38;5;28;01mTrue\u001b[39;00m)\n",
      "\u001b[36mFile \u001b[39m\u001b[32m~/kms/.venv/lib64/python3.12/site-packages/lightkurve/lightcurve.py:420\u001b[39m, in \u001b[36mLightCurve.__getattr__\u001b[39m\u001b[34m(self, name, **kwargs)\u001b[39m\n\u001b[32m    418\u001b[39m     \u001b[38;5;28;01melif\u001b[39;00m name.upper() \u001b[38;5;129;01min\u001b[39;00m \u001b[38;5;28mself\u001b[39m.\u001b[34m__dict__\u001b[39m[\u001b[33m\"\u001b[39m\u001b[33m_meta\u001b[39m\u001b[33m\"\u001b[39m]:\n\u001b[32m    419\u001b[39m         \u001b[38;5;28;01mreturn\u001b[39;00m \u001b[38;5;28mself\u001b[39m.\u001b[34m__dict__\u001b[39m[\u001b[33m\"\u001b[39m\u001b[33m_meta\u001b[39m\u001b[33m\"\u001b[39m][name.upper()]\n\u001b[32m--> \u001b[39m\u001b[32m420\u001b[39m \u001b[38;5;28;01mraise\u001b[39;00m \u001b[38;5;167;01mAttributeError\u001b[39;00m(\u001b[33mf\u001b[39m\u001b[33m\"\u001b[39m\u001b[33mobject has no attribute \u001b[39m\u001b[38;5;132;01m{\u001b[39;00mname\u001b[38;5;132;01m}\u001b[39;00m\u001b[33m\"\u001b[39m)\n",
      "\u001b[31mAttributeError\u001b[39m: object has no attribute pdcsap_flux"
     ]
    }
   ],
   "source": [
    "t = lcnew.time.value\n",
    "f = lcnew.pdcsap_flux.value / np.nanmedian(lc.pdcsap_flux.value)\n",
    "e = None if lc.pdcsap_flux_err is None else (lc.pdcsap_flux_err.value / np.nanmedian(lc.pdcsap_flux.value))\n",
    "\n",
    "m = np.isfinite(t) & np.isfinite(f) & (e>=0 if e is not None else True)\n",
    "t, f = t[m], f[m]\n",
    "if e is not None: e = e[m]\n",
    "\n",
    "med = np.nanmedian(f); mad = np.nanmedian(np.abs(f - med)) + 1e-12\n",
    "k = np.abs(f - med) < 8 * 1.4826 * mad\n",
    "t, f = t[k], f[k]\n",
    "if e is not None: e = e[k]\n",
    "\n",
    "dur_hrs = np.linspace(0.5, 10.0, 30)\n",
    "tls = transitleastsquares(t, f, e)\n",
    "r = tls.power(period_min=0.5, period_max=50.0, duration_grid=dur_hrs, oversampling_factor=5, n_transits_min=2)\n",
    "\n",
    "P = float(r.period)\n",
    "T0 = float(r.T0)\n",
    "Dur_h = float(r.duration * 24.0)\n",
    "Depth = float(r.depth)\n",
    "SDE = float(r.SDE)\n",
    "\n",
    "print(P, T0, Dur_h, Depth*1e6, SDE)\n"
   ]
  },
  {
   "cell_type": "code",
   "execution_count": null,
   "id": "40ea7aa8-fbae-4721-92aa-e9afe5ee0348",
   "metadata": {},
   "outputs": [],
   "source": []
  }
 ],
 "metadata": {
  "kernelspec": {
   "display_name": "Python 3 (ipykernel)",
   "language": "python",
   "name": "python3"
  },
  "language_info": {
   "codemirror_mode": {
    "name": "ipython",
    "version": 3
   },
   "file_extension": ".py",
   "mimetype": "text/x-python",
   "name": "python",
   "nbconvert_exporter": "python",
   "pygments_lexer": "ipython3",
   "version": "3.13.7"
  }
 },
 "nbformat": 4,
 "nbformat_minor": 5
}
